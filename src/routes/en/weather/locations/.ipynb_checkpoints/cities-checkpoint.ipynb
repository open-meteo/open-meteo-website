{
 "cells": [
  {
   "cell_type": "code",
   "execution_count": 130,
   "id": "40c99ece-13a8-4aae-b43d-9378fd9ca5b3",
   "metadata": {},
   "outputs": [],
   "source": [
    "import os\n",
    "import json"
   ]
  },
  {
   "cell_type": "code",
   "execution_count": 143,
   "id": "4bd652d4-a432-4db0-b61e-1f93b68f9adb",
   "metadata": {},
   "outputs": [],
   "source": [
    "city = {}\n",
    "city_geocoding = {}\n",
    "\n",
    "cities = []\n",
    "cities_geocoding = []\n",
    "\n",
    "city_names = []\n",
    "\n",
    "lines= 0\n",
    "with open('cities15000.txt','r') as f:\n",
    "    for line in f.readlines():\n",
    "        lines += 1\n",
    "        parsedLine = line.split(\"\\t\")\n",
    "        city = {\n",
    "            'geonameid': parsedLine[0],\n",
    "            'name': parsedLine[1],\n",
    "            'asciiname': parsedLine[2],\n",
    "            # 'alternatenames': parsedLine[3].split(','),\n",
    "            'latitude': float(parsedLine[4]),\n",
    "            'longitude': float(parsedLine[5]),\n",
    "            #'feature_class': parsedLine[6],\n",
    "            #'feature_code': parsedLine[7],\n",
    "            'country_code': parsedLine[8],\n",
    "            #'cc2': parsedLine[9],\n",
    "            #'admin1_code': parsedLine[10],\n",
    "            #'admin2_code': parsedLine[11],\n",
    "            #'admin3_code': parsedLine[12],\n",
    "            #'admin4_code': parsedLine[13],\n",
    "            'population': int(parsedLine[14]),\n",
    "            'elevation': parsedLine[15],\n",
    "            'route': parsedLine[2].lower().replace(\" \", \"-\").replace(\"-/\",\"\"),\n",
    "            #'dem': int(parsedLine[16]),\n",
    "            #'timezone': parsedLine[17],\n",
    "            #'modification date': parsedLine[18].replace('\\n', ''),\n",
    "        }\n",
    "\n",
    "        #parse to same naming scheme as geocoding api\n",
    "        city_geocoding = {\n",
    "            'id': parsedLine[0],\n",
    "            'name': parsedLine[1],\n",
    "            # 'asciiname': parsedLine[2],\n",
    "            # 'alternatenames': parsedLine[3].split(','),\n",
    "            'latitude': float(parsedLine[4]),\n",
    "            'longitude': float(parsedLine[5]),\n",
    "            #'feature_class': parsedLine[6],\n",
    "            'elevation': parsedLine[15],\n",
    "            'feature_code': parsedLine[7],\n",
    "            'country_code': parsedLine[8],\n",
    "            #'cc2': parsedLine[9],\n",
    "            'admin1_id': parsedLine[10],\n",
    "            'admin2_id': parsedLine[11],\n",
    "            'admin3_id': parsedLine[12],\n",
    "            'admin4_id': parsedLine[13],\n",
    "            'timezone': parsedLine[17],\n",
    "            'population': int(parsedLine[14]),\n",
    "\n",
    "            #'dem': int(parsedLine[16]),\n",
    "            #'modification date': parsedLine[18].replace('\\n', ''),\n",
    "            #'route': parsedLine[2].lower().replace(\" \", \"-\").replace(\"-/\",\"\"),\n",
    "        }\n",
    "        \n",
    "        #if (int(city['population']) > 12500000): #10 cities\n",
    "        #if (int(city['population']) > 3370000): #100 cities\n",
    "        #if (int(city['population']) > 543000): #1000 cities\n",
    "        if (int(city['population']) > 55619): #10000 cities\n",
    "            cities.append(city)\n",
    "            cities_geocoding.append(city_geocoding)\n",
    "            city_names.append(city['route'])\n"
   ]
  },
  {
   "cell_type": "code",
   "execution_count": 144,
   "id": "9591000f-115d-48d5-86ba-b69f6983c050",
   "metadata": {},
   "outputs": [
    {
     "data": {
      "text/plain": [
       "10"
      ]
     },
     "execution_count": 144,
     "metadata": {},
     "output_type": "execute_result"
    }
   ],
   "source": [
    "cities_sorted = sorted(cities, key=lambda d: d['population'], reverse=True)\n",
    "cities_geocoding_sorted = sorted(cities_geocoding, key=lambda d: d['population'], reverse=True)\n",
    "\n",
    "len(cities_geocoding_sorted)"
   ]
  },
  {
   "cell_type": "code",
   "execution_count": 145,
   "id": "21e064af-991f-41d6-a698-a0d6d272a295",
   "metadata": {},
   "outputs": [],
   "source": [
    "name_to_find = \"Berlin\"\n",
    "first_city = next((x for x in cities_geocoding_sorted if (x['name'] == name_to_find)), None) #or name_to_find in x['alternatenames']\n",
    "first_city"
   ]
  },
  {
   "cell_type": "code",
   "execution_count": 146,
   "id": "c65adc70-3f0f-41e8-914b-1487a1d05e16",
   "metadata": {},
   "outputs": [],
   "source": [
    "with open('cities'+str(len(cities_geocoding_sorted))+'.json', 'w') as fp:\n",
    "    json.dump(cities_geocoding_sorted, fp)\n",
    "#with open('city-names'+str(len(city_names))+'.json', 'w') as fp:\n",
    "#    json.dump(city_names, fp)"
   ]
  }
 ],
 "metadata": {
  "kernelspec": {
   "display_name": "Python 3 (ipykernel)",
   "language": "python",
   "name": "python3"
  },
  "language_info": {
   "codemirror_mode": {
    "name": "ipython",
    "version": 3
   },
   "file_extension": ".py",
   "mimetype": "text/x-python",
   "name": "python",
   "nbconvert_exporter": "python",
   "pygments_lexer": "ipython3",
   "version": "3.13.3"
  }
 },
 "nbformat": 4,
 "nbformat_minor": 5
}
