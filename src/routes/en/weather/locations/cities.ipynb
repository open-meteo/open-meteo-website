{
 "cells": [
  {
   "cell_type": "code",
   "execution_count": 1,
   "id": "40c99ece-13a8-4aae-b43d-9378fd9ca5b3",
   "metadata": {},
   "outputs": [],
   "source": [
    "import os\n",
    "import json"
   ]
  },
  {
   "cell_type": "code",
   "execution_count": 2,
   "id": "4bd652d4-a432-4db0-b61e-1f93b68f9adb",
   "metadata": {},
   "outputs": [],
   "source": [
    "cities = []\n",
    "city = {}\n",
    "lines= 0\n",
    "city_names = []\n",
    "\n",
    "with open('cities15000.txt','r') as f:\n",
    "    for line in f.readlines():\n",
    "        lines += 1\n",
    "        parsedLine = line.split(\"\\t\")\n",
    "        city = {\n",
    "            'geonameid': parsedLine[0],\n",
    "            'name': parsedLine[1],\n",
    "            'asciiname': parsedLine[2],\n",
    "            # 'alternatenames': parsedLine[3].split(','),\n",
    "            'latitude': float(parsedLine[4]),\n",
    "            'longitude': float(parsedLine[5]),\n",
    "            #'feature_class': parsedLine[6],\n",
    "            #'feature_code': parsedLine[7],\n",
    "            'country_code': parsedLine[8],\n",
    "            #'cc2': parsedLine[9],\n",
    "            #'admin1_code': parsedLine[10],\n",
    "            #'admin2_code': parsedLine[11],\n",
    "            #'admin3_code': parsedLine[12],\n",
    "            #'admin4_code': parsedLine[13],\n",
    "            'population': int(parsedLine[14]),\n",
    "            'elevation': parsedLine[15],\n",
    "            #'dem': int(parsedLine[16]),\n",
    "            #'timezone': parsedLine[17],\n",
    "            #'modification date': parsedLine[18].replace('\\n', ''),\n",
    "        }\n",
    "        if (int(city['population']) > 55619):\n",
    "            cities.append(city)\n",
    "            city_names.append(city['asciiname'].lower().replace(\" \", \"_\"))\n"
   ]
  },
  {
   "cell_type": "code",
   "execution_count": 3,
   "id": "9591000f-115d-48d5-86ba-b69f6983c050",
   "metadata": {},
   "outputs": [
    {
     "data": {
      "text/plain": [
       "10000"
      ]
     },
     "execution_count": 3,
     "metadata": {},
     "output_type": "execute_result"
    }
   ],
   "source": [
    "len(cities)"
   ]
  },
  {
   "cell_type": "code",
   "execution_count": 4,
   "id": "3ee2c836-de55-467e-ae07-2ef9dbfd9c4a",
   "metadata": {},
   "outputs": [],
   "source": [
    "name_to_find = \"Tokyo\"\n",
    "#first_city = next((x for x in cities if (x['name'] == name_to_find or name_to_find in x['alternatenames'])), None)"
   ]
  },
  {
   "cell_type": "code",
   "execution_count": 5,
   "id": "4a243a44-6538-4b7c-bc98-cf085a9fbda9",
   "metadata": {},
   "outputs": [],
   "source": [
    "cities_sorted = sorted(cities, key=lambda d: d['population'], reverse=True)\n"
   ]
  },
  {
   "cell_type": "code",
   "execution_count": 6,
   "id": "25606343-e250-4314-b6bc-f40e2e937e96",
   "metadata": {},
   "outputs": [
    {
     "data": {
      "text/plain": [
       "{'geonameid': '1796236',\n",
       " 'name': 'Shanghai',\n",
       " 'asciiname': 'Shanghai',\n",
       " 'latitude': 31.22222,\n",
       " 'longitude': 121.45806,\n",
       " 'country_code': 'CN',\n",
       " 'population': 24874500,\n",
       " 'elevation': ''}"
      ]
     },
     "execution_count": 6,
     "metadata": {},
     "output_type": "execute_result"
    }
   ],
   "source": [
    "cities_sorted[0]"
   ]
  },
  {
   "cell_type": "code",
   "execution_count": 7,
   "id": "c65adc70-3f0f-41e8-914b-1487a1d05e16",
   "metadata": {},
   "outputs": [],
   "source": [
    "with open('cities.json', 'w') as fp:\n",
    "    json.dump(cities_sorted, fp)\n",
    "with open('city-names.json', 'w') as fp:\n",
    "    json.dump(city_names, fp)"
   ]
  },
  {
   "cell_type": "code",
   "execution_count": null,
   "id": "3f165b9b-a19b-4c3d-bf18-407133df2061",
   "metadata": {},
   "outputs": [],
   "source": []
  },
  {
   "cell_type": "code",
   "execution_count": null,
   "id": "bd41eb27-7aa5-4845-bfe8-c029a9af0bf5",
   "metadata": {},
   "outputs": [],
   "source": []
  }
 ],
 "metadata": {
  "kernelspec": {
   "display_name": "Python 3 (ipykernel)",
   "language": "python",
   "name": "python3"
  },
  "language_info": {
   "codemirror_mode": {
    "name": "ipython",
    "version": 3
   },
   "file_extension": ".py",
   "mimetype": "text/x-python",
   "name": "python",
   "nbconvert_exporter": "python",
   "pygments_lexer": "ipython3",
   "version": "3.13.3"
  }
 },
 "nbformat": 4,
 "nbformat_minor": 5
}
